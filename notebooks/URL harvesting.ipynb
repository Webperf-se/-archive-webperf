{
 "cells": [
  {
   "cell_type": "markdown",
   "metadata": {},
   "source": [
    "# URL harvesting\n",
    "Fetching URL:s from websites."
   ]
  },
  {
   "cell_type": "code",
   "execution_count": 4,
   "metadata": {
    "scrolled": false
   },
   "outputs": [
    {
     "name": "stdout",
     "output_type": "stream",
     "text": [
      "Looking for at most 25 URLs at http://www.regionhalland.se for 60 seconds\n",
      "1 /vard-halsa/hitta-din-vard/sjukvardsradgivningen/\n",
      "2 /vard-halsa/sjukdomar-och-behandlingar/\n",
      "3 /om-region-halland/\n",
      "4 /om-region-halland/sa-styrs-region-halland/folj-fullmaktige-live/\n",
      "5 /om-region-halland/nyheter/\n",
      "6 /om-region-halland/nyheter/valkommen-att-nominera-arets-medarbetare-i-region-halland/\n",
      "7 /om-region-halland/postdiariet1/\n",
      "8 /om-region-halland/att-jobba-hos-oss/\n",
      "9 /\n",
      "10 /om-region-halland/sa-styrs-region-halland/anslagstavla/\n",
      "11 /om-region-halland/att-jobba-hos-oss/lediga-jobb1/lediga-jobb/\n",
      "12 /sidhuvud/bestall-ladda-ner/\n",
      "13 /sidhuvud/bestall-ladda-ner/kultur1/regionbiblioteket/\n",
      "14 /vard-halsa/\n",
      "15 /sidhuvud/om-cookies-pa-regionhallandse/\n",
      "16 /om-region-halland/organisation/dataskydd/\n",
      "17 /utveckling-och-tillvaxt/\n",
      "18 /utveckling-och-tillvaxt/for-organisationer/\n",
      "19 /kultur/\n",
      "20 /kultur/upplev-kultur/kulturevenemang/rum-for-dans-people-what-people1/\n",
      "21 /sidhuvud/akuta-telefonnummer/\n",
      "22 /kontakta-oss/kontakta-region-halland/\n",
      "23 /om-region-halland/mal-uppdrag/\n",
      "24 /sidhuvud/bestall-ladda-ner/om-region-halland/mal-strategier-policy-och-riktlinjer-/overgripande-dokument-/regional-utvecklingsstrategi-2005-2020-halland-basta-livsplatsen/\n",
      "25 /kontakta-oss/\n"
     ]
    },
    {
     "data": {
      "text/plain": [
       "['http://www.regionhalland.se/vard-halsa/hitta-din-vard/sjukvardsradgivningen/',\n",
       " 'http://www.regionhalland.se/vard-halsa/sjukdomar-och-behandlingar/',\n",
       " 'http://www.regionhalland.se/om-region-halland/',\n",
       " 'http://www.regionhalland.se/om-region-halland/sa-styrs-region-halland/folj-fullmaktige-live/',\n",
       " 'http://www.regionhalland.se/om-region-halland/nyheter/',\n",
       " 'http://www.regionhalland.se/om-region-halland/nyheter/valkommen-att-nominera-arets-medarbetare-i-region-halland/',\n",
       " 'http://www.regionhalland.se/om-region-halland/postdiariet1/',\n",
       " 'http://www.regionhalland.se/om-region-halland/att-jobba-hos-oss/',\n",
       " 'http://www.regionhalland.se/',\n",
       " 'http://www.regionhalland.se/om-region-halland/sa-styrs-region-halland/anslagstavla/',\n",
       " 'http://www.regionhalland.se/om-region-halland/att-jobba-hos-oss/lediga-jobb1/lediga-jobb/',\n",
       " 'http://www.regionhalland.se/sidhuvud/bestall-ladda-ner/',\n",
       " 'http://www.regionhalland.se/sidhuvud/bestall-ladda-ner/kultur1/regionbiblioteket/',\n",
       " 'http://www.regionhalland.se/vard-halsa/',\n",
       " 'http://www.regionhalland.se/sidhuvud/om-cookies-pa-regionhallandse/',\n",
       " 'http://www.regionhalland.se/om-region-halland/organisation/dataskydd/',\n",
       " 'http://www.regionhalland.se/utveckling-och-tillvaxt/',\n",
       " 'http://www.regionhalland.se/utveckling-och-tillvaxt/for-organisationer/',\n",
       " 'http://www.regionhalland.se/kultur/',\n",
       " 'http://www.regionhalland.se/kultur/upplev-kultur/kulturevenemang/rum-for-dans-people-what-people1/',\n",
       " 'http://www.regionhalland.se/sidhuvud/akuta-telefonnummer/',\n",
       " 'http://www.regionhalland.se/kontakta-oss/kontakta-region-halland/',\n",
       " 'http://www.regionhalland.se/om-region-halland/mal-uppdrag/',\n",
       " 'http://www.regionhalland.se/sidhuvud/bestall-ladda-ner/om-region-halland/mal-strategier-policy-och-riktlinjer-/overgripande-dokument-/regional-utvecklingsstrategi-2005-2020-halland-basta-livsplatsen/',\n",
       " 'http://www.regionhalland.se/kontakta-oss/']"
      ]
     },
     "execution_count": 4,
     "metadata": {},
     "output_type": "execute_result"
    }
   ],
   "source": [
    "\"\"\" \n",
    "Crawling websites for URLs\n",
    "\"\"\"\n",
    "from urllib.request import urlopen, Request\n",
    "import requests\n",
    "from bs4 import BeautifulSoup\n",
    "import datetime\n",
    "import random\n",
    "import re\n",
    "import time\n",
    "\n",
    "sec_timeout = 60*1   # 1 minute from now\n",
    "while_timeout = time.time() + sec_timeout\n",
    "random.seed(datetime.datetime.now())\n",
    "\n",
    "def get_links(site, pageUrl):\n",
    "    try:\n",
    "        html = urlopen(Request('{0}{1}'.format(site, pageUrl), headers={'User-Agent': 'Webperf.se Crawler'}))\n",
    "        bs = BeautifulSoup(html, 'html.parser')\n",
    "\n",
    "        return bs.find_all('a', href=re.compile('^/')) # only URLs starting with /\n",
    "    except Exception as e:\n",
    "        print(site, pageUrl, '\\n', e)\n",
    "        return None\n",
    "\n",
    "def check_for_redirect(url):\n",
    "    try:\n",
    "        r = requests.head(url, allow_redirects=True, timeout = 5)\n",
    "        return r.url, r.history, r.status_code, r.headers['Content-Type']\n",
    "    except:\n",
    "        return None\n",
    "\n",
    "def harvest_links(site = 'https://www.vgregion.se', initial_page = '/', max_pages = 50):\n",
    "    links = get_links(site, initial_page)\n",
    "    i = 0\n",
    "    urls = []\n",
    "\n",
    "    print('Looking for at most {} URLs at {} for {} seconds'.format(max_pages, site, sec_timeout))\n",
    "\n",
    "    while len(links) > 0 and i < max_pages:\n",
    "        newPage = links[random.randint(0, len(links)-1)].attrs['href']\n",
    "        \n",
    "        if site + newPage not in urls and 'mailto' not in newPage and '#' not in newPage and newPage != None and 'http' not in newPage and '.pdf' not in newPage and '.docx' not in newPage and '.pptx' not in newPage:\n",
    "            \n",
    "            check_redir = check_for_redirect(site + newPage)\n",
    "            if(check_redir is not None and site in check_redir[0] and check_redir[2] == 200 and 'text/html' in check_redir[3]):\n",
    "                i += 1\n",
    "                print(i, newPage)\n",
    "                urls.append(site + newPage)\n",
    "                \n",
    "                new_links = get_links(site, newPage)\n",
    "                if new_links is not None:\n",
    "                    links = new_links\n",
    "            else:\n",
    "                print('Redirection, content-type or status code error detected. URL skipped.\\n', check_redir) # check_redir[0] do not work for all content-types\n",
    "        \n",
    "        if time.time() > while_timeout:\n",
    "            break\n",
    "    \n",
    "    return urls\n",
    "\n",
    "harvest_links(site='http://www.regionhalland.se', max_pages=25)"
   ]
  },
  {
   "cell_type": "code",
   "execution_count": null,
   "metadata": {},
   "outputs": [],
   "source": []
  }
 ],
 "metadata": {
  "kernelspec": {
   "display_name": "Python 3",
   "language": "python",
   "name": "python3"
  },
  "language_info": {
   "codemirror_mode": {
    "name": "ipython",
    "version": 3
   },
   "file_extension": ".py",
   "mimetype": "text/x-python",
   "name": "python",
   "nbconvert_exporter": "python",
   "pygments_lexer": "ipython3",
   "version": "3.6.4"
  }
 },
 "nbformat": 4,
 "nbformat_minor": 2
}
